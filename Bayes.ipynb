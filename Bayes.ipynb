{
 "cells": [
  {
   "cell_type": "code",
   "execution_count": 2,
   "id": "89e0f9c7",
   "metadata": {},
   "outputs": [],
   "source": [
    "import numpy as np\n",
    "import pandas as pd\n",
    "import matplotlib.pyplot as plt\n",
    "from sklearn.datasets import make_blobs"
   ]
  },
  {
   "cell_type": "code",
   "execution_count": 3,
   "id": "b026e77f",
   "metadata": {},
   "outputs": [],
   "source": [
    "X, y = make_blobs(200, 2, centers=2, cluster_std=1.5, random_state=0)"
   ]
  },
  {
   "cell_type": "code",
   "execution_count": 4,
   "id": "eb95a081",
   "metadata": {},
   "outputs": [
    {
     "data": {
      "text/plain": [
       "((200, 2), (200,))"
      ]
     },
     "execution_count": 4,
     "metadata": {},
     "output_type": "execute_result"
    }
   ],
   "source": [
    "X.shape, y.shape"
   ]
  },
  {
   "cell_type": "code",
   "execution_count": 5,
   "id": "9ffe67cc",
   "metadata": {},
   "outputs": [
    {
     "data": {
      "text/plain": [
       "array([[ 3.20526229,  1.43210289],\n",
       "       [ 1.45609398,  1.45274749],\n",
       "       [ 3.65803162,  0.21758495],\n",
       "       [ 1.09911198,  0.30175594],\n",
       "       [ 3.2754389 ,  6.50782548],\n",
       "       [-0.03242059,  3.76445759],\n",
       "       [ 1.19233544,  6.48519759],\n",
       "       [-0.35540854,  1.33259263],\n",
       "       [ 1.85594666,  0.45097734],\n",
       "       [-1.46902744,  4.99796071],\n",
       "       [ 1.16079646,  0.81881272],\n",
       "       [-0.255928  ,  0.99255665],\n",
       "       [ 1.54090838,  2.65468614],\n",
       "       [-0.90292296,  5.47002286],\n",
       "       [ 2.20185497,  1.77209418],\n",
       "       [-0.22884442,  3.26946266],\n",
       "       [-1.32807882, -0.63609661],\n",
       "       [ 4.25513559,  2.17649157],\n",
       "       [ 2.83686484,  0.03398171],\n",
       "       [ 3.31771442,  0.52347579],\n",
       "       [ 1.0235111 , -0.92345244],\n",
       "       [-0.99759104,  3.61141042],\n",
       "       [ 2.62575947,  5.28668292],\n",
       "       [-0.17860403,  5.11266111],\n",
       "       [ 3.86068312,  6.52455951],\n",
       "       [ 0.02250096,  5.31843727],\n",
       "       [ 1.65366722, -0.79435334],\n",
       "       [ 1.28868255,  5.76874588],\n",
       "       [ 1.39388357,  0.47713042],\n",
       "       [-1.93349084,  1.80714295],\n",
       "       [-0.78341503,  7.21921911],\n",
       "       [ 0.05387981, -1.1224126 ],\n",
       "       [ 3.42053588,  1.37349098],\n",
       "       [ 0.57700141, -1.31008885],\n",
       "       [ 0.87390767,  6.87380141],\n",
       "       [-0.7449329 ,  3.64705726],\n",
       "       [ 1.01719275,  3.20222924],\n",
       "       [ 0.83522113, -1.30197283],\n",
       "       [ 1.51081967,  5.36364708],\n",
       "       [ 0.45440185,  4.53831078],\n",
       "       [ 0.57426502,  5.50747192],\n",
       "       [ 3.21514699, -0.8781573 ],\n",
       "       [ 1.3357838 ,  1.82820111],\n",
       "       [ 0.93399674,  4.94628513],\n",
       "       [ 1.07604591,  4.75749517],\n",
       "       [ 2.26819727,  0.41867103],\n",
       "       [-0.92945742,  5.75788239],\n",
       "       [-0.99075918,  3.99440295],\n",
       "       [ 2.75831477,  4.77920125],\n",
       "       [ 5.44423095,  0.83427793],\n",
       "       [ 0.27197863,  0.13743913],\n",
       "       [ 1.8411563 ,  3.99133919],\n",
       "       [ 1.67476374,  1.9994218 ],\n",
       "       [ 0.91734585,  2.55164708],\n",
       "       [ 2.29002733,  1.24593521],\n",
       "       [ 0.21006237,  2.53283905],\n",
       "       [ 4.221124  ,  6.30857925],\n",
       "       [ 0.99202011,  6.98259307],\n",
       "       [ 1.58893826,  1.04376391],\n",
       "       [ 0.31923463,  0.42922528],\n",
       "       [ 3.09592725,  0.6583035 ],\n",
       "       [ 4.98913598,  1.48280364],\n",
       "       [-0.62985885,  5.88546492],\n",
       "       [ 0.44527921,  2.24136039],\n",
       "       [ 4.55098724,  5.72050656],\n",
       "       [ 2.12950999,  1.63841882],\n",
       "       [ 0.48738747,  2.71438159],\n",
       "       [ 2.92304977,  1.42214535],\n",
       "       [ 2.74443944,  4.03390007],\n",
       "       [-0.06558171,  4.07933552],\n",
       "       [ 5.51114257, -0.69236007],\n",
       "       [ 0.21179181,  3.64667588],\n",
       "       [-0.84915219,  1.18083156],\n",
       "       [ 1.5082272 ,  1.13271944],\n",
       "       [ 1.85471518,  2.51427937],\n",
       "       [ 3.23475946,  0.19803501],\n",
       "       [ 1.818767  ,  4.28274891],\n",
       "       [ 0.09547724,  3.38485968],\n",
       "       [-0.24344934,  1.71436342],\n",
       "       [ 1.15728662, -0.77618182],\n",
       "       [ 1.22628032,  5.25633448],\n",
       "       [ 2.0297369 ,  1.46639126],\n",
       "       [-2.85321465,  5.28421522],\n",
       "       [-1.58313521,  7.22995042],\n",
       "       [ 1.02925117,  3.38698985],\n",
       "       [ 3.77760852,  5.66285431],\n",
       "       [-1.26061631,  4.96287488],\n",
       "       [ 1.99201034,  0.46733287],\n",
       "       [ 1.47794781,  1.03919104],\n",
       "       [ 1.35987356,  1.61988587],\n",
       "       [ 1.57978254,  3.27657219],\n",
       "       [-0.52405294,  1.98663068],\n",
       "       [-0.31556845,  7.16888476],\n",
       "       [ 2.68537111,  2.4515486 ],\n",
       "       [ 1.85134297,  2.6030007 ],\n",
       "       [ 2.03174435,  1.13905591],\n",
       "       [ 1.74491201,  2.21793203],\n",
       "       [ 0.29297132,  4.33000607],\n",
       "       [ 1.04490785,  4.02301155],\n",
       "       [ 0.90905164, -1.25902355],\n",
       "       [ 0.02478694,  3.75967558],\n",
       "       [ 2.79588019,  0.72350775],\n",
       "       [ 1.24240929,  3.70111592],\n",
       "       [ 0.42249732,  3.94471856],\n",
       "       [-1.44457669,  3.98467691],\n",
       "       [ 1.44587163,  3.02264372],\n",
       "       [-0.68030493,  4.38203495],\n",
       "       [-0.36692976,  4.88414107],\n",
       "       [ 3.78376487,  2.51709155],\n",
       "       [-0.39296326,  5.97931176],\n",
       "       [ 3.17605002, -0.88575377],\n",
       "       [ 2.8217061 ,  6.1073571 ],\n",
       "       [ 2.11782667,  4.48629985],\n",
       "       [ 2.06990592,  4.49726169],\n",
       "       [ 0.2292214 ,  7.19808541],\n",
       "       [ 2.90620294,  0.56365101],\n",
       "       [-0.7093368 ,  0.18070265],\n",
       "       [ 1.61751148, -0.24457466],\n",
       "       [ 0.62135002,  0.378691  ],\n",
       "       [ 1.76928728,  0.30538939],\n",
       "       [ 1.89738913,  5.68709733],\n",
       "       [ 2.69465562,  1.91302571],\n",
       "       [ 0.39527985,  3.8503332 ],\n",
       "       [ 0.99821711,  2.31255475],\n",
       "       [-0.49189121,  1.47858437],\n",
       "       [ 3.05484214,  0.20658398],\n",
       "       [ 2.39714803,  4.07127219],\n",
       "       [ 2.01877833, -0.2093827 ],\n",
       "       [ 3.02023922, -1.45827145],\n",
       "       [ 2.261516  ,  3.32724894],\n",
       "       [ 1.15929342,  0.54078107],\n",
       "       [ 1.57028015,  2.66419506],\n",
       "       [ 0.32353975,  7.07768292],\n",
       "       [ 2.84110406,  1.03029679],\n",
       "       [-0.14086215,  3.06412952],\n",
       "       [ 3.77760706,  2.83787051],\n",
       "       [-0.8618832 ,  5.57033179],\n",
       "       [ 1.07665465,  0.3112336 ],\n",
       "       [ 3.08999477,  2.850433  ],\n",
       "       [ 4.52746992,  1.14400529],\n",
       "       [ 1.64206493,  4.80429882],\n",
       "       [-0.31914007,  1.81323273],\n",
       "       [ 2.35755831,  4.78187881],\n",
       "       [-0.32992565,  3.43551283],\n",
       "       [ 2.46704206, -0.43870896],\n",
       "       [ 1.91411726,  1.90070084],\n",
       "       [-0.03522891,  4.35153316],\n",
       "       [-0.96301529,  4.70436363],\n",
       "       [ 2.48478305,  1.81092941],\n",
       "       [ 1.88945654,  2.42792273],\n",
       "       [ 1.07682712,  0.11587969],\n",
       "       [-0.38467747,  4.38170542],\n",
       "       [ 2.13395591,  5.53904356],\n",
       "       [ 1.76118507,  4.04646783],\n",
       "       [-0.08082384,  0.15768383],\n",
       "       [ 1.42362734,  6.29336617],\n",
       "       [ 0.50894128,  4.38803534],\n",
       "       [ 1.11313618,  0.17612298],\n",
       "       [ 3.45304008,  1.40761114],\n",
       "       [ 0.97586094, -0.32182582],\n",
       "       [ 0.36502881, -0.19835297],\n",
       "       [ 3.20864837,  7.14762109],\n",
       "       [ 3.80099612,  2.28214874],\n",
       "       [ 3.01546481, -1.52777041],\n",
       "       [ 1.5251199 , -1.52704762],\n",
       "       [ 0.63859814,  0.28258912],\n",
       "       [-0.13307442,  6.61830922],\n",
       "       [ 1.20869122,  4.87103111],\n",
       "       [ 0.01084247,  0.9686826 ],\n",
       "       [-0.59655937,  2.17376042],\n",
       "       [ 1.59174807, -1.61634205],\n",
       "       [ 1.87802145, -0.12260365],\n",
       "       [ 4.10206529, -0.13651012],\n",
       "       [ 1.16663822,  4.90677137],\n",
       "       [ 2.47593008, -0.59202176],\n",
       "       [ 1.98471221,  4.91498008],\n",
       "       [ 2.40040129,  4.43511419],\n",
       "       [ 0.37150466,  6.13745493],\n",
       "       [ 4.29699434, -2.20731388],\n",
       "       [ 2.65383704, -3.26122547],\n",
       "       [ 0.32099387,  2.06946081],\n",
       "       [ 2.27292438,  3.1905398 ],\n",
       "       [ 1.96282792,  0.73670575],\n",
       "       [ 2.66622396,  2.68389006],\n",
       "       [ 0.8214418 ,  4.91968508],\n",
       "       [ 0.35584161,  3.18260511],\n",
       "       [ 3.10295325,  0.90331999],\n",
       "       [ 2.11321335, -1.58740899],\n",
       "       [ 0.96687145, -1.17738227],\n",
       "       [-0.57509418,  5.3261791 ],\n",
       "       [ 1.24097531,  1.52173873],\n",
       "       [ 0.82859129,  3.3085699 ],\n",
       "       [-0.57856835,  1.57406535],\n",
       "       [ 2.47515442,  0.75043808],\n",
       "       [ 3.34215341,  2.60931646],\n",
       "       [ 3.09257565,  1.93978738],\n",
       "       [ 3.21738869,  3.99604993],\n",
       "       [ 4.38090201,  2.12223882],\n",
       "       [ 2.4014027 ,  4.07675152],\n",
       "       [-0.77145468,  5.65502706]])"
      ]
     },
     "execution_count": 5,
     "metadata": {},
     "output_type": "execute_result"
    }
   ],
   "source": [
    "X"
   ]
  },
  {
   "cell_type": "code",
   "execution_count": 6,
   "id": "7309ed3e",
   "metadata": {},
   "outputs": [],
   "source": [
    "X += 100"
   ]
  },
  {
   "cell_type": "code",
   "execution_count": 8,
   "id": "2779d2d1",
   "metadata": {},
   "outputs": [
    {
     "data": {
      "text/plain": [
       "<matplotlib.collections.PathCollection at 0x7fd17b4dcf10>"
      ]
     },
     "execution_count": 8,
     "metadata": {},
     "output_type": "execute_result"
    },
    {
     "data": {
      "image/png": "[encoded data removed]",
      "text/plain": [
       "<Figure size 432x288 with 1 Axes>"
      ]
     },
     "metadata": {
      "needs_background": "light"
     },
     "output_type": "display_data"
    }
   ],
   "source": [
    "colors = np.array([\"red\",\"blue\"])\n",
    "plt.scatter(X[:,0], X[:,1], c=colors[y])"
   ]
  },
  {
   "cell_type": "code",
   "execution_count": 10,
   "id": "38fb0132",
   "metadata": {},
   "outputs": [],
   "source": [
    "from sklearn.naive_bayes import GaussianNB, BernoulliNB, MultinomialNB\n",
    "from sklearn.neighbors import KNeighborsClassifier\n",
    "from sklearn.metrics import confusion_matrix\n",
    "from sklearn.model_selection import train_test_split"
   ]
  },
  {
   "cell_type": "code",
   "execution_count": 13,
   "id": "9ef23065",
   "metadata": {},
   "outputs": [],
   "source": [
    "X_train, X_test, y_train, y_test = train_test_split(X, y, test_size=0.25, random_state=0)"
   ]
  },
  {
   "cell_type": "code",
   "execution_count": 14,
   "id": "c014f52a",
   "metadata": {},
   "outputs": [
    {
     "name": "stdout",
     "output_type": "stream",
     "text": [
      "0.86\n"
     ]
    },
    {
     "data": {
      "text/html": [
       "<div>\n",
       "<style scoped>\n",
       "    .dataframe tbody tr th:only-of-type {\n",
       "        vertical-align: middle;\n",
       "    }\n",
       "\n",
       "    .dataframe tbody tr th {\n",
       "        vertical-align: top;\n",
       "    }\n",
       "\n",
       "    .dataframe thead th {\n",
       "        text-align: right;\n",
       "    }\n",
       "</style>\n",
       "<table border=\"1\" class=\"dataframe\">\n",
       "  <thead>\n",
       "    <tr style=\"text-align: right;\">\n",
       "      <th></th>\n",
       "      <th>0</th>\n",
       "      <th>1</th>\n",
       "    </tr>\n",
       "  </thead>\n",
       "  <tbody>\n",
       "    <tr>\n",
       "      <th>0</th>\n",
       "      <td>21</td>\n",
       "      <td>6</td>\n",
       "    </tr>\n",
       "    <tr>\n",
       "      <th>1</th>\n",
       "      <td>1</td>\n",
       "      <td>22</td>\n",
       "    </tr>\n",
       "  </tbody>\n",
       "</table>\n",
       "</div>"
      ],
      "text/plain": [
       "    0   1\n",
       "0  21   6\n",
       "1   1  22"
      ]
     },
     "execution_count": 14,
     "metadata": {},
     "output_type": "execute_result"
    }
   ],
   "source": [
    "model = GaussianNB()\n",
    "model.fit(X_train, y_train)\n",
    "print(model.score(X_test, y_test))\n",
    "pd.DataFrame( confusion_matrix(y_test, model.predict(X_test)))"
   ]
  },
  {
   "cell_type": "code",
   "execution_count": 15,
   "id": "94454b01",
   "metadata": {},
   "outputs": [
    {
     "name": "stdout",
     "output_type": "stream",
     "text": [
      "0.46\n"
     ]
    },
    {
     "data": {
      "text/html": [
       "<div>\n",
       "<style scoped>\n",
       "    .dataframe tbody tr th:only-of-type {\n",
       "        vertical-align: middle;\n",
       "    }\n",
       "\n",
       "    .dataframe tbody tr th {\n",
       "        vertical-align: top;\n",
       "    }\n",
       "\n",
       "    .dataframe thead th {\n",
       "        text-align: right;\n",
       "    }\n",
       "</style>\n",
       "<table border=\"1\" class=\"dataframe\">\n",
       "  <thead>\n",
       "    <tr style=\"text-align: right;\">\n",
       "      <th></th>\n",
       "      <th>0</th>\n",
       "      <th>1</th>\n",
       "    </tr>\n",
       "  </thead>\n",
       "  <tbody>\n",
       "    <tr>\n",
       "      <th>0</th>\n",
       "      <td>0</td>\n",
       "      <td>27</td>\n",
       "    </tr>\n",
       "    <tr>\n",
       "      <th>1</th>\n",
       "      <td>0</td>\n",
       "      <td>23</td>\n",
       "    </tr>\n",
       "  </tbody>\n",
       "</table>\n",
       "</div>"
      ],
      "text/plain": [
       "   0   1\n",
       "0  0  27\n",
       "1  0  23"
      ]
     },
     "execution_count": 15,
     "metadata": {},
     "output_type": "execute_result"
    }
   ],
   "source": [
    "model = BernoulliNB()\n",
    "model.fit(X_train, y_train)\n",
    "print(model.score(X_test, y_test))\n",
    "pd.DataFrame( confusion_matrix(y_test, model.predict(X_test)))"
   ]
  },
  {
   "cell_type": "code",
   "execution_count": 17,
   "id": "1c4c6d9d",
   "metadata": {},
   "outputs": [
    {
     "name": "stdout",
     "output_type": "stream",
     "text": [
      "0.66\n"
     ]
    },
    {
     "data": {
      "text/html": [
       "<div>\n",
       "<style scoped>\n",
       "    .dataframe tbody tr th:only-of-type {\n",
       "        vertical-align: middle;\n",
       "    }\n",
       "\n",
       "    .dataframe tbody tr th {\n",
       "        vertical-align: top;\n",
       "    }\n",
       "\n",
       "    .dataframe thead th {\n",
       "        text-align: right;\n",
       "    }\n",
       "</style>\n",
       "<table border=\"1\" class=\"dataframe\">\n",
       "  <thead>\n",
       "    <tr style=\"text-align: right;\">\n",
       "      <th></th>\n",
       "      <th>0</th>\n",
       "      <th>1</th>\n",
       "    </tr>\n",
       "  </thead>\n",
       "  <tbody>\n",
       "    <tr>\n",
       "      <th>0</th>\n",
       "      <td>10</td>\n",
       "      <td>17</td>\n",
       "    </tr>\n",
       "    <tr>\n",
       "      <th>1</th>\n",
       "      <td>0</td>\n",
       "      <td>23</td>\n",
       "    </tr>\n",
       "  </tbody>\n",
       "</table>\n",
       "</div>"
      ],
      "text/plain": [
       "    0   1\n",
       "0  10  17\n",
       "1   0  23"
      ]
     },
     "execution_count": 17,
     "metadata": {},
     "output_type": "execute_result"
    }
   ],
   "source": [
    "model = MultinomialNB()\n",
    "model.fit(X_train, y_train)\n",
    "print(model.score(X_test, y_test))\n",
    "pd.DataFrame( confusion_matrix(y_test, model.predict(X_test)))"
   ]
  },
  {
   "cell_type": "code",
   "execution_count": 18,
   "id": "023e742a",
   "metadata": {},
   "outputs": [
    {
     "name": "stdout",
     "output_type": "stream",
     "text": [
      "0.86\n"
     ]
    },
    {
     "data": {
      "text/html": [
       "<div>\n",
       "<style scoped>\n",
       "    .dataframe tbody tr th:only-of-type {\n",
       "        vertical-align: middle;\n",
       "    }\n",
       "\n",
       "    .dataframe tbody tr th {\n",
       "        vertical-align: top;\n",
       "    }\n",
       "\n",
       "    .dataframe thead th {\n",
       "        text-align: right;\n",
       "    }\n",
       "</style>\n",
       "<table border=\"1\" class=\"dataframe\">\n",
       "  <thead>\n",
       "    <tr style=\"text-align: right;\">\n",
       "      <th></th>\n",
       "      <th>0</th>\n",
       "      <th>1</th>\n",
       "    </tr>\n",
       "  </thead>\n",
       "  <tbody>\n",
       "    <tr>\n",
       "      <th>0</th>\n",
       "      <td>22</td>\n",
       "      <td>5</td>\n",
       "    </tr>\n",
       "    <tr>\n",
       "      <th>1</th>\n",
       "      <td>2</td>\n",
       "      <td>21</td>\n",
       "    </tr>\n",
       "  </tbody>\n",
       "</table>\n",
       "</div>"
      ],
      "text/plain": [
       "    0   1\n",
       "0  22   5\n",
       "1   2  21"
      ]
     },
     "execution_count": 18,
     "metadata": {},
     "output_type": "execute_result"
    }
   ],
   "source": [
    "model = KNeighborsClassifier()\n",
    "model.fit(X_train, y_train)\n",
    "print(model.score(X_test, y_test))\n",
    "pd.DataFrame( confusion_matrix(y_test, model.predict(X_test)))"
   ]
  },
  {
   "cell_type": "code",
   "execution_count": 19,
   "id": "ba116304",
   "metadata": {},
   "outputs": [
    {
     "data": {
      "image/png": "[encoded data removed]",
      "text/plain": [
       "<Figure size 432x288 with 1 Axes>"
      ]
     },
     "metadata": {
      "needs_background": "light"
     },
     "output_type": "display_data"
    }
   ],
   "source": [
    "plt.hist(X[:,0])\n",
    "plt.show()"
   ]
  },
  {
   "cell_type": "code",
   "execution_count": 20,
   "id": "971fa8bc",
   "metadata": {},
   "outputs": [
    {
     "data": {
      "image/png": "[encoded data removed]",
      "text/plain": [
       "<Figure size 432x288 with 1 Axes>"
      ]
     },
     "metadata": {
      "needs_background": "light"
     },
     "output_type": "display_data"
    }
   ],
   "source": [
    "plt.hist(X[:,1])\n",
    "plt.show()"
   ]
  },
  {
   "cell_type": "code",
   "execution_count": 21,
   "id": "e34e5ac5",
   "metadata": {},
   "outputs": [
    {
     "data": {
      "image/png": "[encoded data removed]",
      "text/plain": [
       "<Figure size 432x288 with 1 Axes>"
      ]
     },
     "metadata": {
      "needs_background": "light"
     },
     "output_type": "display_data"
    }
   ],
   "source": [
    "plt.hist(X.flatten())\n",
    "plt.show()"
   ]
  },
  {
   "cell_type": "markdown",
   "id": "476fe218",
   "metadata": {},
   "source": [
    "### Creating words-bag or words-matrix"
   ]
  },
  {
   "cell_type": "code",
   "execution_count": 22,
   "id": "796aefaa",
   "metadata": {},
   "outputs": [],
   "source": [
    "from sklearn.feature_extraction.text import CountVectorizer"
   ]
  },
  {
   "cell_type": "code",
   "execution_count": 23,
   "id": "5efb6d7b",
   "metadata": {},
   "outputs": [],
   "source": [
    "sentences = [\"Julia loves John more than Betty\", \"John loves Bertty more than Julia\", \"Julia and Betty love John\", \"Today is raining\"]"
   ]
  },
  {
   "cell_type": "code",
   "execution_count": 24,
   "id": "baf8b59f",
   "metadata": {},
   "outputs": [],
   "source": [
    "cv = CountVectorizer()"
   ]
  },
  {
   "cell_type": "code",
   "execution_count": 25,
   "id": "277c79e9",
   "metadata": {},
   "outputs": [
    {
     "data": {
      "text/plain": [
       "<4x12 sparse matrix of type '<class 'numpy.int64'>'\n",
       "\twith 20 stored elements in Compressed Sparse Row format>"
      ]
     },
     "execution_count": 25,
     "metadata": {},
     "output_type": "execute_result"
    }
   ],
   "source": [
    "# word-matrix / words-bag\n",
    "wm = cv.fit_transform(sentences)\n",
    "wm"
   ]
  },
  {
   "cell_type": "code",
   "execution_count": 26,
   "id": "01fbebac",
   "metadata": {},
   "outputs": [
    {
     "data": {
      "text/plain": [
       "array(['and', 'bertty', 'betty', 'is', 'john', 'julia', 'love', 'loves',\n",
       "       'more', 'raining', 'than', 'today'], dtype=object)"
      ]
     },
     "execution_count": 26,
     "metadata": {},
     "output_type": "execute_result"
    }
   ],
   "source": [
    "cv.get_feature_names_out()"
   ]
  },
  {
   "cell_type": "code",
   "execution_count": 27,
   "id": "84297de8",
   "metadata": {},
   "outputs": [
    {
     "data": {
      "text/html": [
       "<div>\n",
       "<style scoped>\n",
       "    .dataframe tbody tr th:only-of-type {\n",
       "        vertical-align: middle;\n",
       "    }\n",
       "\n",
       "    .dataframe tbody tr th {\n",
       "        vertical-align: top;\n",
       "    }\n",
       "\n",
       "    .dataframe thead th {\n",
       "        text-align: right;\n",
       "    }\n",
       "</style>\n",
       "<table border=\"1\" class=\"dataframe\">\n",
       "  <thead>\n",
       "    <tr style=\"text-align: right;\">\n",
       "      <th></th>\n",
       "      <th>and</th>\n",
       "      <th>bertty</th>\n",
       "      <th>betty</th>\n",
       "      <th>is</th>\n",
       "      <th>john</th>\n",
       "      <th>julia</th>\n",
       "      <th>love</th>\n",
       "      <th>loves</th>\n",
       "      <th>more</th>\n",
       "      <th>raining</th>\n",
       "      <th>than</th>\n",
       "      <th>today</th>\n",
       "    </tr>\n",
       "  </thead>\n",
       "  <tbody>\n",
       "    <tr>\n",
       "      <th>0</th>\n",
       "      <td>0</td>\n",
       "      <td>0</td>\n",
       "      <td>1</td>\n",
       "      <td>0</td>\n",
       "      <td>1</td>\n",
       "      <td>1</td>\n",
       "      <td>0</td>\n",
       "      <td>1</td>\n",
       "      <td>1</td>\n",
       "      <td>0</td>\n",
       "      <td>1</td>\n",
       "      <td>0</td>\n",
       "    </tr>\n",
       "    <tr>\n",
       "      <th>1</th>\n",
       "      <td>0</td>\n",
       "      <td>1</td>\n",
       "      <td>0</td>\n",
       "      <td>0</td>\n",
       "      <td>1</td>\n",
       "      <td>1</td>\n",
       "      <td>0</td>\n",
       "      <td>1</td>\n",
       "      <td>1</td>\n",
       "      <td>0</td>\n",
       "      <td>1</td>\n",
       "      <td>0</td>\n",
       "    </tr>\n",
       "    <tr>\n",
       "      <th>2</th>\n",
       "      <td>1</td>\n",
       "      <td>0</td>\n",
       "      <td>1</td>\n",
       "      <td>0</td>\n",
       "      <td>1</td>\n",
       "      <td>1</td>\n",
       "      <td>1</td>\n",
       "      <td>0</td>\n",
       "      <td>0</td>\n",
       "      <td>0</td>\n",
       "      <td>0</td>\n",
       "      <td>0</td>\n",
       "    </tr>\n",
       "    <tr>\n",
       "      <th>3</th>\n",
       "      <td>0</td>\n",
       "      <td>0</td>\n",
       "      <td>0</td>\n",
       "      <td>1</td>\n",
       "      <td>0</td>\n",
       "      <td>0</td>\n",
       "      <td>0</td>\n",
       "      <td>0</td>\n",
       "      <td>0</td>\n",
       "      <td>1</td>\n",
       "      <td>0</td>\n",
       "      <td>1</td>\n",
       "    </tr>\n",
       "  </tbody>\n",
       "</table>\n",
       "</div>"
      ],
      "text/plain": [
       "   and  bertty  betty  is  john  julia  love  loves  more  raining  than  \\\n",
       "0    0       0      1   0     1      1     0      1     1        0     1   \n",
       "1    0       1      0   0     1      1     0      1     1        0     1   \n",
       "2    1       0      1   0     1      1     1      0     0        0     0   \n",
       "3    0       0      0   1     0      0     0      0     0        1     0   \n",
       "\n",
       "   today  \n",
       "0      0  \n",
       "1      0  \n",
       "2      0  \n",
       "3      1  "
      ]
     },
     "execution_count": 27,
     "metadata": {},
     "output_type": "execute_result"
    }
   ],
   "source": [
    "pd.DataFrame( wm.toarray(), columns=cv.get_feature_names_out())\n",
    "# \"Julia loves John more than Betty\" "
   ]
  },
  {
   "cell_type": "markdown",
   "id": "90a6d54c",
   "metadata": {},
   "source": [
    "### Creating spam filter"
   ]
  },
  {
   "cell_type": "code",
   "execution_count": 32,
   "id": "ddcf691d",
   "metadata": {},
   "outputs": [
    {
     "data": {
      "text/html": [
       "<div>\n",
       "<style scoped>\n",
       "    .dataframe tbody tr th:only-of-type {\n",
       "        vertical-align: middle;\n",
       "    }\n",
       "\n",
       "    .dataframe tbody tr th {\n",
       "        vertical-align: top;\n",
       "    }\n",
       "\n",
       "    .dataframe thead th {\n",
       "        text-align: right;\n",
       "    }\n",
       "</style>\n",
       "<table border=\"1\" class=\"dataframe\">\n",
       "  <thead>\n",
       "    <tr style=\"text-align: right;\">\n",
       "      <th></th>\n",
       "      <th>label</th>\n",
       "      <th>message</th>\n",
       "    </tr>\n",
       "  </thead>\n",
       "  <tbody>\n",
       "    <tr>\n",
       "      <th>0</th>\n",
       "      <td>ham</td>\n",
       "      <td>Go until jurong point, crazy.. Available only in bugis n great world la e buffet... Cine there got amore wat...</td>\n",
       "    </tr>\n",
       "    <tr>\n",
       "      <th>1</th>\n",
       "      <td>ham</td>\n",
       "      <td>Ok lar... Joking wif u oni...</td>\n",
       "    </tr>\n",
       "    <tr>\n",
       "      <th>2</th>\n",
       "      <td>spam</td>\n",
       "      <td>Free entry in 2 a wkly comp to win FA Cup final tkts 21st May 2005. Text FA to 87121 to receive entry question(std txt rate)T&amp;C's apply 08452810075over18's</td>\n",
       "    </tr>\n",
       "    <tr>\n",
       "      <th>3</th>\n",
       "      <td>ham</td>\n",
       "      <td>U dun say so early hor... U c already then say...</td>\n",
       "    </tr>\n",
       "    <tr>\n",
       "      <th>4</th>\n",
       "      <td>ham</td>\n",
       "      <td>Nah I don't think he goes to usf, he lives around here though</td>\n",
       "    </tr>\n",
       "    <tr>\n",
       "      <th>...</th>\n",
       "      <td>...</td>\n",
       "      <td>...</td>\n",
       "    </tr>\n",
       "    <tr>\n",
       "      <th>5567</th>\n",
       "      <td>spam</td>\n",
       "      <td>This is the 2nd time we have tried 2 contact u. U have won the £750 Pound prize. 2 claim is easy, call 087187272008 NOW1! Only 10p per minute. BT-national-rate.</td>\n",
       "    </tr>\n",
       "    <tr>\n",
       "      <th>5568</th>\n",
       "      <td>ham</td>\n",
       "      <td>Will ü b going to esplanade fr home?</td>\n",
       "    </tr>\n",
       "    <tr>\n",
       "      <th>5569</th>\n",
       "      <td>ham</td>\n",
       "      <td>Pity, * was in mood for that. So...any other suggestions?</td>\n",
       "    </tr>\n",
       "    <tr>\n",
       "      <th>5570</th>\n",
       "      <td>ham</td>\n",
       "      <td>The guy did some bitching but I acted like i'd be interested in buying something else next week and he gave it to us for free</td>\n",
       "    </tr>\n",
       "    <tr>\n",
       "      <th>5571</th>\n",
       "      <td>ham</td>\n",
       "      <td>Rofl. Its true to its name</td>\n",
       "    </tr>\n",
       "  </tbody>\n",
       "</table>\n",
       "<p>5572 rows × 2 columns</p>\n",
       "</div>"
      ],
      "text/plain": [
       "     label  \\\n",
       "0      ham   \n",
       "1      ham   \n",
       "2     spam   \n",
       "3      ham   \n",
       "4      ham   \n",
       "...    ...   \n",
       "5567  spam   \n",
       "5568   ham   \n",
       "5569   ham   \n",
       "5570   ham   \n",
       "5571   ham   \n",
       "\n",
       "                                                                                                                                                               message  \n",
       "0                                                      Go until jurong point, crazy.. Available only in bugis n great world la e buffet... Cine there got amore wat...  \n",
       "1                                                                                                                                        Ok lar... Joking wif u oni...  \n",
       "2          Free entry in 2 a wkly comp to win FA Cup final tkts 21st May 2005. Text FA to 87121 to receive entry question(std txt rate)T&C's apply 08452810075over18's  \n",
       "3                                                                                                                    U dun say so early hor... U c already then say...  \n",
       "4                                                                                                        Nah I don't think he goes to usf, he lives around here though  \n",
       "...                                                                                                                                                                ...  \n",
       "5567  This is the 2nd time we have tried 2 contact u. U have won the £750 Pound prize. 2 claim is easy, call 087187272008 NOW1! Only 10p per minute. BT-national-rate.  \n",
       "5568                                                                                                                              Will ü b going to esplanade fr home?  \n",
       "5569                                                                                                         Pity, * was in mood for that. So...any other suggestions?  \n",
       "5570                                     The guy did some bitching but I acted like i'd be interested in buying something else next week and he gave it to us for free  \n",
       "5571                                                                                                                                        Rofl. Its true to its name  \n",
       "\n",
       "[5572 rows x 2 columns]"
      ]
     },
     "execution_count": 32,
     "metadata": {},
     "output_type": "execute_result"
    }
   ],
   "source": [
    "pd.set_option(\"max_colwidth\", None)\n",
    "\n",
    "df = pd.read_csv(\"http://51.91.120.89/ML0901/SMSSpamCollection.csv\", header=None, sep=\"\\t\", names=[\"label\",\"message\"])\n",
    "df"
   ]
  },
  {
   "cell_type": "code",
   "execution_count": 36,
   "id": "cf021231",
   "metadata": {},
   "outputs": [],
   "source": [
    "df.label = df.label.map({\"ham\":0, \"spam\":1})"
   ]
  },
  {
   "cell_type": "code",
   "execution_count": 37,
   "id": "56ca9a96",
   "metadata": {},
   "outputs": [
    {
     "data": {
      "text/html": [
       "<div>\n",
       "<style scoped>\n",
       "    .dataframe tbody tr th:only-of-type {\n",
       "        vertical-align: middle;\n",
       "    }\n",
       "\n",
       "    .dataframe tbody tr th {\n",
       "        vertical-align: top;\n",
       "    }\n",
       "\n",
       "    .dataframe thead th {\n",
       "        text-align: right;\n",
       "    }\n",
       "</style>\n",
       "<table border=\"1\" class=\"dataframe\">\n",
       "  <thead>\n",
       "    <tr style=\"text-align: right;\">\n",
       "      <th></th>\n",
       "      <th>label</th>\n",
       "      <th>message</th>\n",
       "    </tr>\n",
       "  </thead>\n",
       "  <tbody>\n",
       "    <tr>\n",
       "      <th>0</th>\n",
       "      <td>0</td>\n",
       "      <td>Go until jurong point, crazy.. Available only in bugis n great world la e buffet... Cine there got amore wat...</td>\n",
       "    </tr>\n",
       "    <tr>\n",
       "      <th>1</th>\n",
       "      <td>0</td>\n",
       "      <td>Ok lar... Joking wif u oni...</td>\n",
       "    </tr>\n",
       "    <tr>\n",
       "      <th>2</th>\n",
       "      <td>1</td>\n",
       "      <td>Free entry in 2 a wkly comp to win FA Cup final tkts 21st May 2005. Text FA to 87121 to receive entry question(std txt rate)T&amp;C's apply 08452810075over18's</td>\n",
       "    </tr>\n",
       "    <tr>\n",
       "      <th>3</th>\n",
       "      <td>0</td>\n",
       "      <td>U dun say so early hor... U c already then say...</td>\n",
       "    </tr>\n",
       "    <tr>\n",
       "      <th>4</th>\n",
       "      <td>0</td>\n",
       "      <td>Nah I don't think he goes to usf, he lives around here though</td>\n",
       "    </tr>\n",
       "    <tr>\n",
       "      <th>5</th>\n",
       "      <td>1</td>\n",
       "      <td>FreeMsg Hey there darling it's been 3 week's now and no word back! I'd like some fun you up for it still? Tb ok! XxX std chgs to send, £1.50 to rcv</td>\n",
       "    </tr>\n",
       "    <tr>\n",
       "      <th>6</th>\n",
       "      <td>0</td>\n",
       "      <td>Even my brother is not like to speak with me. They treat me like aids patent.</td>\n",
       "    </tr>\n",
       "    <tr>\n",
       "      <th>7</th>\n",
       "      <td>0</td>\n",
       "      <td>As per your request 'Melle Melle (Oru Minnaminunginte Nurungu Vettam)' has been set as your callertune for all Callers. Press *9 to copy your friends Callertune</td>\n",
       "    </tr>\n",
       "    <tr>\n",
       "      <th>8</th>\n",
       "      <td>1</td>\n",
       "      <td>WINNER!! As a valued network customer you have been selected to receivea £900 prize reward! To claim call 09061701461. Claim code KL341. Valid 12 hours only.</td>\n",
       "    </tr>\n",
       "    <tr>\n",
       "      <th>9</th>\n",
       "      <td>1</td>\n",
       "      <td>Had your mobile 11 months or more? U R entitled to Update to the latest colour mobiles with camera for Free! Call The Mobile Update Co FREE on 08002986030</td>\n",
       "    </tr>\n",
       "  </tbody>\n",
       "</table>\n",
       "</div>"
      ],
      "text/plain": [
       "   label  \\\n",
       "0      0   \n",
       "1      0   \n",
       "2      1   \n",
       "3      0   \n",
       "4      0   \n",
       "5      1   \n",
       "6      0   \n",
       "7      0   \n",
       "8      1   \n",
       "9      1   \n",
       "\n",
       "                                                                                                                                                            message  \n",
       "0                                                   Go until jurong point, crazy.. Available only in bugis n great world la e buffet... Cine there got amore wat...  \n",
       "1                                                                                                                                     Ok lar... Joking wif u oni...  \n",
       "2       Free entry in 2 a wkly comp to win FA Cup final tkts 21st May 2005. Text FA to 87121 to receive entry question(std txt rate)T&C's apply 08452810075over18's  \n",
       "3                                                                                                                 U dun say so early hor... U c already then say...  \n",
       "4                                                                                                     Nah I don't think he goes to usf, he lives around here though  \n",
       "5               FreeMsg Hey there darling it's been 3 week's now and no word back! I'd like some fun you up for it still? Tb ok! XxX std chgs to send, £1.50 to rcv  \n",
       "6                                                                                     Even my brother is not like to speak with me. They treat me like aids patent.  \n",
       "7  As per your request 'Melle Melle (Oru Minnaminunginte Nurungu Vettam)' has been set as your callertune for all Callers. Press *9 to copy your friends Callertune  \n",
       "8     WINNER!! As a valued network customer you have been selected to receivea £900 prize reward! To claim call 09061701461. Claim code KL341. Valid 12 hours only.  \n",
       "9        Had your mobile 11 months or more? U R entitled to Update to the latest colour mobiles with camera for Free! Call The Mobile Update Co FREE on 08002986030  "
      ]
     },
     "execution_count": 37,
     "metadata": {},
     "output_type": "execute_result"
    }
   ],
   "source": [
    "df.head(10)"
   ]
  },
  {
   "cell_type": "code",
   "execution_count": 38,
   "id": "020abbe5",
   "metadata": {},
   "outputs": [
    {
     "name": "stderr",
     "output_type": "stream",
     "text": [
      "/var/folders/vw/hghg3yv532l62_ccjq89plz00000gn/T/ipykernel_93496/429519205.py:1: FutureWarning: The default value of regex will change from True to False in a future version.\n",
      "  df.message.str.replace(\"[^\\w\\s]\",\"\")\n"
     ]
    },
    {
     "data": {
      "text/plain": [
       "0                                                        Go until jurong point crazy Available only in bugis n great world la e buffet Cine there got amore wat\n",
       "1                                                                                                                                       Ok lar Joking wif u oni\n",
       "2         Free entry in 2 a wkly comp to win FA Cup final tkts 21st May 2005 Text FA to 87121 to receive entry questionstd txt rateTCs apply 08452810075over18s\n",
       "3                                                                                                                   U dun say so early hor U c already then say\n",
       "4                                                                                                   Nah I dont think he goes to usf he lives around here though\n",
       "                                                                                 ...                                                                           \n",
       "5567    This is the 2nd time we have tried 2 contact u U have won the 750 Pound prize 2 claim is easy call 087187272008 NOW1 Only 10p per minute BTnationalrate\n",
       "5568                                                                                                                        Will ü b going to esplanade fr home\n",
       "5569                                                                                                         Pity  was in mood for that Soany other suggestions\n",
       "5570                               The guy did some bitching but I acted like id be interested in buying something else next week and he gave it to us for free\n",
       "5571                                                                                                                                  Rofl Its true to its name\n",
       "Name: message, Length: 5572, dtype: object"
      ]
     },
     "execution_count": 38,
     "metadata": {},
     "output_type": "execute_result"
    }
   ],
   "source": [
    "df.message.str.replace(\"[^\\w\\s]\",\"\")"
   ]
  },
  {
   "cell_type": "code",
   "execution_count": 39,
   "id": "44953fc2",
   "metadata": {},
   "outputs": [
    {
     "name": "stderr",
     "output_type": "stream",
     "text": [
      "/var/folders/vw/hghg3yv532l62_ccjq89plz00000gn/T/ipykernel_93496/4099761451.py:1: FutureWarning: The default value of regex will change from True to False in a future version.\n",
      "  df.message = df.message.str.replace(\"[^\\w\\s]\",\"\")\n"
     ]
    }
   ],
   "source": [
    "df.message = df.message.str.replace(\"[^\\w\\s]\",\"\")"
   ]
  },
  {
   "cell_type": "code",
   "execution_count": 40,
   "id": "74b99911",
   "metadata": {},
   "outputs": [
    {
     "data": {
      "text/html": [
       "<div>\n",
       "<style scoped>\n",
       "    .dataframe tbody tr th:only-of-type {\n",
       "        vertical-align: middle;\n",
       "    }\n",
       "\n",
       "    .dataframe tbody tr th {\n",
       "        vertical-align: top;\n",
       "    }\n",
       "\n",
       "    .dataframe thead th {\n",
       "        text-align: right;\n",
       "    }\n",
       "</style>\n",
       "<table border=\"1\" class=\"dataframe\">\n",
       "  <thead>\n",
       "    <tr style=\"text-align: right;\">\n",
       "      <th></th>\n",
       "      <th>label</th>\n",
       "      <th>message</th>\n",
       "    </tr>\n",
       "  </thead>\n",
       "  <tbody>\n",
       "    <tr>\n",
       "      <th>0</th>\n",
       "      <td>0</td>\n",
       "      <td>Go until jurong point crazy Available only in bugis n great world la e buffet Cine there got amore wat</td>\n",
       "    </tr>\n",
       "    <tr>\n",
       "      <th>1</th>\n",
       "      <td>0</td>\n",
       "      <td>Ok lar Joking wif u oni</td>\n",
       "    </tr>\n",
       "    <tr>\n",
       "      <th>2</th>\n",
       "      <td>1</td>\n",
       "      <td>Free entry in 2 a wkly comp to win FA Cup final tkts 21st May 2005 Text FA to 87121 to receive entry questionstd txt rateTCs apply 08452810075over18s</td>\n",
       "    </tr>\n",
       "    <tr>\n",
       "      <th>3</th>\n",
       "      <td>0</td>\n",
       "      <td>U dun say so early hor U c already then say</td>\n",
       "    </tr>\n",
       "    <tr>\n",
       "      <th>4</th>\n",
       "      <td>0</td>\n",
       "      <td>Nah I dont think he goes to usf he lives around here though</td>\n",
       "    </tr>\n",
       "    <tr>\n",
       "      <th>5</th>\n",
       "      <td>1</td>\n",
       "      <td>FreeMsg Hey there darling its been 3 weeks now and no word back Id like some fun you up for it still Tb ok XxX std chgs to send 150 to rcv</td>\n",
       "    </tr>\n",
       "    <tr>\n",
       "      <th>6</th>\n",
       "      <td>0</td>\n",
       "      <td>Even my brother is not like to speak with me They treat me like aids patent</td>\n",
       "    </tr>\n",
       "    <tr>\n",
       "      <th>7</th>\n",
       "      <td>0</td>\n",
       "      <td>As per your request Melle Melle Oru Minnaminunginte Nurungu Vettam has been set as your callertune for all Callers Press 9 to copy your friends Callertune</td>\n",
       "    </tr>\n",
       "    <tr>\n",
       "      <th>8</th>\n",
       "      <td>1</td>\n",
       "      <td>WINNER As a valued network customer you have been selected to receivea 900 prize reward To claim call 09061701461 Claim code KL341 Valid 12 hours only</td>\n",
       "    </tr>\n",
       "    <tr>\n",
       "      <th>9</th>\n",
       "      <td>1</td>\n",
       "      <td>Had your mobile 11 months or more U R entitled to Update to the latest colour mobiles with camera for Free Call The Mobile Update Co FREE on 08002986030</td>\n",
       "    </tr>\n",
       "  </tbody>\n",
       "</table>\n",
       "</div>"
      ],
      "text/plain": [
       "   label  \\\n",
       "0      0   \n",
       "1      0   \n",
       "2      1   \n",
       "3      0   \n",
       "4      0   \n",
       "5      1   \n",
       "6      0   \n",
       "7      0   \n",
       "8      1   \n",
       "9      1   \n",
       "\n",
       "                                                                                                                                                      message  \n",
       "0                                                      Go until jurong point crazy Available only in bugis n great world la e buffet Cine there got amore wat  \n",
       "1                                                                                                                                     Ok lar Joking wif u oni  \n",
       "2       Free entry in 2 a wkly comp to win FA Cup final tkts 21st May 2005 Text FA to 87121 to receive entry questionstd txt rateTCs apply 08452810075over18s  \n",
       "3                                                                                                                 U dun say so early hor U c already then say  \n",
       "4                                                                                                 Nah I dont think he goes to usf he lives around here though  \n",
       "5                  FreeMsg Hey there darling its been 3 weeks now and no word back Id like some fun you up for it still Tb ok XxX std chgs to send 150 to rcv  \n",
       "6                                                                                 Even my brother is not like to speak with me They treat me like aids patent  \n",
       "7  As per your request Melle Melle Oru Minnaminunginte Nurungu Vettam has been set as your callertune for all Callers Press 9 to copy your friends Callertune  \n",
       "8      WINNER As a valued network customer you have been selected to receivea 900 prize reward To claim call 09061701461 Claim code KL341 Valid 12 hours only  \n",
       "9    Had your mobile 11 months or more U R entitled to Update to the latest colour mobiles with camera for Free Call The Mobile Update Co FREE on 08002986030  "
      ]
     },
     "execution_count": 40,
     "metadata": {},
     "output_type": "execute_result"
    }
   ],
   "source": [
    "df.head(10)"
   ]
  },
  {
   "cell_type": "code",
   "execution_count": 41,
   "id": "81def2c7",
   "metadata": {},
   "outputs": [],
   "source": [
    "cv = CountVectorizer()\n",
    "cv.fit(df.message)\n",
    "wm = cv.transform(df.message)"
   ]
  },
  {
   "cell_type": "code",
   "execution_count": 42,
   "id": "241f5d7a",
   "metadata": {},
   "outputs": [
    {
     "data": {
      "text/plain": [
       "(5572, 9546)"
      ]
     },
     "execution_count": 42,
     "metadata": {},
     "output_type": "execute_result"
    }
   ],
   "source": [
    "wm.toarray().shape"
   ]
  },
  {
   "cell_type": "code",
   "execution_count": 43,
   "id": "2ce8a970",
   "metadata": {},
   "outputs": [],
   "source": [
    "X_train, X_test, y_train, y_test = train_test_split(wm.toarray(), df.label, test_size=0.1, random_state=0)"
   ]
  },
  {
   "cell_type": "code",
   "execution_count": 44,
   "id": "51228ace",
   "metadata": {},
   "outputs": [
    {
     "name": "stdout",
     "output_type": "stream",
     "text": [
      "0.982078853046595\n"
     ]
    },
    {
     "data": {
      "text/html": [
       "<div>\n",
       "<style scoped>\n",
       "    .dataframe tbody tr th:only-of-type {\n",
       "        vertical-align: middle;\n",
       "    }\n",
       "\n",
       "    .dataframe tbody tr th {\n",
       "        vertical-align: top;\n",
       "    }\n",
       "\n",
       "    .dataframe thead th {\n",
       "        text-align: right;\n",
       "    }\n",
       "</style>\n",
       "<table border=\"1\" class=\"dataframe\">\n",
       "  <thead>\n",
       "    <tr style=\"text-align: right;\">\n",
       "      <th></th>\n",
       "      <th>0</th>\n",
       "      <th>1</th>\n",
       "    </tr>\n",
       "  </thead>\n",
       "  <tbody>\n",
       "    <tr>\n",
       "      <th>0</th>\n",
       "      <td>481</td>\n",
       "      <td>0</td>\n",
       "    </tr>\n",
       "    <tr>\n",
       "      <th>1</th>\n",
       "      <td>10</td>\n",
       "      <td>67</td>\n",
       "    </tr>\n",
       "  </tbody>\n",
       "</table>\n",
       "</div>"
      ],
      "text/plain": [
       "     0   1\n",
       "0  481   0\n",
       "1   10  67"
      ]
     },
     "execution_count": 44,
     "metadata": {},
     "output_type": "execute_result"
    }
   ],
   "source": [
    "model = BernoulliNB()\n",
    "model.fit(X_train, y_train)\n",
    "print(model.score(X_test, y_test))\n",
    "pd.DataFrame( confusion_matrix(y_test, model.predict(X_test)))"
   ]
  },
  {
   "cell_type": "code",
   "execution_count": 45,
   "id": "43331b34",
   "metadata": {},
   "outputs": [
    {
     "name": "stdout",
     "output_type": "stream",
     "text": [
      "0.9838709677419355\n"
     ]
    },
    {
     "data": {
      "text/html": [
       "<div>\n",
       "<style scoped>\n",
       "    .dataframe tbody tr th:only-of-type {\n",
       "        vertical-align: middle;\n",
       "    }\n",
       "\n",
       "    .dataframe tbody tr th {\n",
       "        vertical-align: top;\n",
       "    }\n",
       "\n",
       "    .dataframe thead th {\n",
       "        text-align: right;\n",
       "    }\n",
       "</style>\n",
       "<table border=\"1\" class=\"dataframe\">\n",
       "  <thead>\n",
       "    <tr style=\"text-align: right;\">\n",
       "      <th></th>\n",
       "      <th>0</th>\n",
       "      <th>1</th>\n",
       "    </tr>\n",
       "  </thead>\n",
       "  <tbody>\n",
       "    <tr>\n",
       "      <th>0</th>\n",
       "      <td>477</td>\n",
       "      <td>4</td>\n",
       "    </tr>\n",
       "    <tr>\n",
       "      <th>1</th>\n",
       "      <td>5</td>\n",
       "      <td>72</td>\n",
       "    </tr>\n",
       "  </tbody>\n",
       "</table>\n",
       "</div>"
      ],
      "text/plain": [
       "     0   1\n",
       "0  477   4\n",
       "1    5  72"
      ]
     },
     "execution_count": 45,
     "metadata": {},
     "output_type": "execute_result"
    }
   ],
   "source": [
    "model = MultinomialNB()\n",
    "model.fit(X_train, y_train)\n",
    "print(model.score(X_test, y_test))\n",
    "pd.DataFrame( confusion_matrix(y_test, model.predict(X_test)))"
   ]
  },
  {
   "cell_type": "code",
   "execution_count": 46,
   "id": "9acdc58e",
   "metadata": {},
   "outputs": [],
   "source": [
    "# validate filter with real text"
   ]
  },
  {
   "cell_type": "code",
   "execution_count": 48,
   "id": "6c18f586",
   "metadata": {},
   "outputs": [
    {
     "data": {
      "text/plain": [
       "array([1])"
      ]
     },
     "execution_count": 48,
     "metadata": {},
     "output_type": "execute_result"
    }
   ],
   "source": [
    "s = \"extra promo buy now\"\n",
    "wm_sample = cv.transform([s])\n",
    "model.predict(wm_sample)"
   ]
  },
  {
   "cell_type": "code",
   "execution_count": 49,
   "id": "4155d038",
   "metadata": {},
   "outputs": [
    {
     "data": {
      "text/plain": [
       "array([0])"
      ]
     },
     "execution_count": 49,
     "metadata": {},
     "output_type": "execute_result"
    }
   ],
   "source": [
    "s = \"please call me now\"\n",
    "wm_sample = cv.transform([s])\n",
    "model.predict(wm_sample)"
   ]
  },
  {
   "cell_type": "code",
   "execution_count": 50,
   "id": "b9c419e3",
   "metadata": {},
   "outputs": [
    {
     "data": {
      "text/plain": [
       "array([[0.46547635, 0.53452365]])"
      ]
     },
     "execution_count": 50,
     "metadata": {},
     "output_type": "execute_result"
    }
   ],
   "source": [
    "s = \"extra promo buy now\"\n",
    "wm_sample = cv.transform([s])\n",
    "model.predict_proba(wm_sample)"
   ]
  },
  {
   "cell_type": "code",
   "execution_count": 51,
   "id": "c68a5ff6",
   "metadata": {},
   "outputs": [
    {
     "data": {
      "text/plain": [
       "array([[0.82916496, 0.17083504]])"
      ]
     },
     "execution_count": 51,
     "metadata": {},
     "output_type": "execute_result"
    }
   ],
   "source": [
    "s = \"please call me now\"\n",
    "wm_sample = cv.transform([s])\n",
    "model.predict_proba(wm_sample)"
   ]
  },
  {
   "cell_type": "code",
   "execution_count": null,
   "id": "f03e6914",
   "metadata": {},
   "outputs": [],
   "source": []
  }
 ],
 "metadata": {
  "kernelspec": {
   "display_name": "Python 3 (ipykernel)",
   "language": "python",
   "name": "python3"
  },
  "language_info": {
   "codemirror_mode": {
    "name": "ipython",
    "version": 3
   },
   "file_extension": ".py",
   "mimetype": "text/x-python",
   "name": "python",
   "nbconvert_exporter": "python",
   "pygments_lexer": "ipython3",
   "version": "3.9.12"
  }
 },
 "nbformat": 4,
 "nbformat_minor": 5
}
